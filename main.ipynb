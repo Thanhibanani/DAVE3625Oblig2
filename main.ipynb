{
 "cells": [
  {
   "cell_type": "code",
   "execution_count": 1,
   "metadata": {},
   "outputs": [],
   "source": [
    "import numpy as np\n",
    "import pandas as pd\n",
    "import csv"
   ]
  },
  {
   "cell_type": "code",
   "execution_count": 5,
   "metadata": {},
   "outputs": [
    {
     "name": "stdout",
     "output_type": "stream",
     "text": [
      "           Date        Open        High         Low       Close   Adj Close  \\\n",
      "0    2022-10-24  205.820007  213.500000  198.589996  211.250000  211.250000   \n",
      "1    2022-10-25  210.100006  224.350006  210.000000  222.419998  222.419998   \n",
      "2    2022-10-26  219.399994  230.600006  218.199997  224.639999  224.639999   \n",
      "3    2022-10-27  229.770004  233.809998  222.850006  225.089996  225.089996   \n",
      "4    2022-10-28  225.399994  228.860001  216.350006  228.520004  228.520004   \n",
      "..          ...         ...         ...         ...         ...         ...   \n",
      "245  2023-10-16  250.050003  255.399994  248.479996  253.919998  253.919998   \n",
      "246  2023-10-17  250.100006  257.179993  247.080002  254.850006  254.850006   \n",
      "247  2023-10-18  252.699997  254.630005  242.080002  242.679993  242.679993   \n",
      "248  2023-10-19  225.949997  230.610001  216.779999  220.110001  220.110001   \n",
      "249  2023-10-20  217.009995  218.860001  210.419998  211.990005  211.990005   \n",
      "\n",
      "        Volume  \n",
      "0    100446800  \n",
      "1     96507900  \n",
      "2     85012500  \n",
      "3     61638800  \n",
      "4     69152400  \n",
      "..         ...  \n",
      "245   88917200  \n",
      "246   93562900  \n",
      "247  125147800  \n",
      "248  170772700  \n",
      "249  137734000  \n",
      "\n",
      "[250 rows x 7 columns]\n"
     ]
    }
   ],
   "source": [
    "file = open('TSLA.csv')\n",
    "type(file)\n",
    "\n",
    "csvreader = csv.reader(file)\n",
    "\n",
    "data =pd.read_csv('TSLA.csv')\n",
    "tabell =pd.DataFrame(data)\n",
    "\n",
    "print(tabell)\n",
    "\n",
    "\n",
    "\n"
   ]
  }
 ],
 "metadata": {
  "kernelspec": {
   "display_name": "dave3625Oblig2",
   "language": "python",
   "name": "python3"
  },
  "language_info": {
   "codemirror_mode": {
    "name": "ipython",
    "version": 3
   },
   "file_extension": ".py",
   "mimetype": "text/x-python",
   "name": "python",
   "nbconvert_exporter": "python",
   "pygments_lexer": "ipython3",
   "version": "3.12.0"
  }
 },
 "nbformat": 4,
 "nbformat_minor": 2
}
