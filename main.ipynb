{
 "cells": [
  {
   "cell_type": "code",
   "execution_count": 1,
   "metadata": {},
   "outputs": [],
   "source": [
    "import numpy as np\n",
    "import pandas as pd\n",
    "import matplotlib.pyplot as plt\n",
    "import csv\n",
    "\n",
    "from sklearn import metrics\n",
    "from sklearn import preprocessing\n",
    "from sklearn.linear_model import LinearRegression\n",
    "from sklearn.model_selection import train_test_split\n",
    "\n",
    "url = \"https://raw.githubusercontent.com/Thanhibanani/DAVE3625Oblig2/main/TSLA.csv\"\n",
    "#Find the raw url from the github repo\n",
    "df = pd.read_csv(url)\n",
    "display(df)\n",
    "\n"
   ]
  },
  {
   "cell_type": "code",
   "execution_count": 2,
   "metadata": {},
   "outputs": [
    {
     "name": "stdout",
     "output_type": "stream",
     "text": [
      "            Date        Open        High         Low       Close   Adj Close  \\\n",
      "0     2010-06-29    1.266667    1.666667    1.169333    1.592667    1.592667   \n",
      "1     2010-06-30    1.719333    2.028000    1.553333    1.588667    1.588667   \n",
      "2     2010-07-01    1.666667    1.728000    1.351333    1.464000    1.464000   \n",
      "3     2010-07-02    1.533333    1.540000    1.247333    1.280000    1.280000   \n",
      "4     2010-07-06    1.333333    1.333333    1.055333    1.074000    1.074000   \n",
      "...          ...         ...         ...         ...         ...         ...   \n",
      "3348  2023-10-17  250.100006  257.179993  247.080002  254.850006  254.850006   \n",
      "3349  2023-10-18  252.699997  254.630005  242.080002  242.679993  242.679993   \n",
      "3350  2023-10-19  225.949997  230.610001  216.779999  220.110001  220.110001   \n",
      "3351  2023-10-20  217.009995  218.860001  210.419998  211.990005  211.990005   \n",
      "3352  2023-10-23  210.000000  216.979996  202.509995  212.080002  212.080002   \n",
      "\n",
      "         Volume  \n",
      "0     281494500  \n",
      "1     257806500  \n",
      "2     123282000  \n",
      "3      77097000  \n",
      "4     103003500  \n",
      "...         ...  \n",
      "3348   93562900  \n",
      "3349  125147800  \n",
      "3350  170772700  \n",
      "3351  137734000  \n",
      "3352  150327800  \n",
      "\n",
      "[3353 rows x 7 columns]\n"
     ]
    }
   ],
   "source": [
    "file = open('TSLA.csv')\n",
    "type(file)\n",
    "\n",
    "csvreader = csv.reader(file)\n",
    "\n",
    "data =pd.read_csv('TSLA.csv')\n",
    "tabell =pd.DataFrame(data)\n",
    "\n",
    "print(tabell)\n",
    "\n",
    "\n",
    "\n",
    "\n",
    "\n"
   ]
  },
  {
   "cell_type": "code",
   "execution_count": 3,
   "metadata": {},
   "outputs": [],
   "source": [
    "from sklearn import metrics\n",
    "from sklearn import preprocessing\n",
    "from sklearn.linear_model import LinearRegression\n",
    "from sklearn.model_selection import train_test_split"
   ]
  }
 ],
 "metadata": {
  "kernelspec": {
   "display_name": "dave3625Oblig2",
   "language": "python",
   "name": "python3"
  },
  "language_info": {
   "codemirror_mode": {
    "name": "ipython",
    "version": 3
   },
   "file_extension": ".py",
   "mimetype": "text/x-python",
   "name": "python",
   "nbconvert_exporter": "python",
   "pygments_lexer": "ipython3",
   "version": "3.8.18"
  }
 },
 "nbformat": 4,
 "nbformat_minor": 2
}
